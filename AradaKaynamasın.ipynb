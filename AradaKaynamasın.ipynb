{
 "cells": [
  {
   "cell_type": "markdown",
   "metadata": {},
   "source": [
    "ARADA KAYNAMASIN"
   ]
  },
  {
   "cell_type": "markdown",
   "metadata": {},
   "source": [
    "Prime Numbers"
   ]
  },
  {
   "cell_type": "code",
   "execution_count": 1,
   "metadata": {},
   "outputs": [
    {
     "name": "stdout",
     "output_type": "stream",
     "text": [
      "sayı gir45\n",
      "Girdiginiz sayının (kendisi ve  1 haric) 4 adet daha tam böleni var.\n",
      "Buda demektir ki:\n",
      "\u001b[1msayı asal degil\u001b[0m\n"
     ]
    }
   ],
   "source": [
    "count=0\n",
    "a=int(input(\"sayı gir\"))\n",
    "for i in range(2,a):\n",
    "    b=a%i\n",
    "    if b==0:\n",
    "        count+=1\n",
    "print(\"Girdiginiz sayının (kendisi ve  1 haric) {} adet\\\n",
    " daha tam böleni var.\\nBuda demektir ki:\".format(count))\n",
    "if count>0 or a<2:\n",
    "    print(\"\\033[1m\" +\"sayı asal degil\"+ \"\\033[0m\")\n",
    "    if a<0:\n",
    "        print(\"Not:senin matematik hocan kim ?\")\n",
    "else:\n",
    "    print( \"\\033[1m\" +\"sayı asal\"+ \"\\033[0m\")"
   ]
  },
  {
   "cell_type": "code",
   "execution_count": null,
   "metadata": {},
   "outputs": [],
   "source": [
    "def kontrol(a):\n",
    "    count=0\n",
    "    if a>=2:\n",
    "        for i in range(2,a):# sayının kendisini ve 1 i bölen olarak dahil etmedim\n",
    "            if a%i==0:\n",
    "                count+=1\n",
    "        if count==0:\n",
    "            return True\n",
    "sayılar=list(range(100))\n",
    "den= filter(kontrol,sayılar)\n",
    "c=[x for x in den]\n",
    "print(c)"
   ]
  },
  {
   "cell_type": "markdown",
   "metadata": {},
   "source": [
    "Unzip"
   ]
  },
  {
   "cell_type": "code",
   "execution_count": 6,
   "metadata": {},
   "outputs": [
    {
     "name": "stdout",
     "output_type": "stream",
     "text": [
      "(1, 'ali') (23, 'ahmet') (4, 'hacı')\n",
      "(1, 'ali') (23, 'ahmet') (4, 'hacı')\n",
      "(1, 'ali') (23, 'ahmet') (4, 'hacı')\n"
     ]
    }
   ],
   "source": [
    "z=[(1,23,4),(\"ali\",\"ahmet\",\"hacı\")]\n",
    "a,b,c=zip(*z)\n",
    "for i in range(len(z[0])):\n",
    "    print(a,b,c)"
   ]
  },
  {
   "cell_type": "markdown",
   "metadata": {},
   "source": [
    "Fibonacci"
   ]
  },
  {
   "cell_type": "code",
   "execution_count": null,
   "metadata": {},
   "outputs": [],
   "source": [
    "a=1\n",
    "b=1\n",
    "d=[1]\n",
    "toplam=0\n",
    "while toplam<60:\n",
    "    d.append(b)\n",
    "    toplam=a+b\n",
    "    a=b\n",
    "    b=toplam\n",
    "print(d) "
   ]
  },
  {
   "cell_type": "markdown",
   "metadata": {},
   "source": [
    "FizzBuzz"
   ]
  },
  {
   "cell_type": "code",
   "execution_count": null,
   "metadata": {},
   "outputs": [],
   "source": [
    "def FizzBuzz(number):\n",
    "    if number %3==0 and number%5!=0:\n",
    "        return(\"Fizz\")\n",
    "    elif number%3!=0 and number%5==0:\n",
    "        return(\"Buzz\")\n",
    "    elif number%3==0 and number%5==0:\n",
    "        return(\"FizzBuzz\")\n",
    "    else:\n",
    "        return(number)\n",
    "\n",
    "a=list(range(1,101))  \n",
    "b=map(FizzBuzz,a)\n",
    "for i in b:\n",
    "    print(i,end=\" - \")"
   ]
  },
  {
   "cell_type": "markdown",
   "metadata": {},
   "source": [
    "Lambda zımbırtısı"
   ]
  },
  {
   "cell_type": "code",
   "execution_count": null,
   "metadata": {},
   "outputs": [],
   "source": [
    "(lambda count,x: count+1 if x%2==0 else count)(0,4)"
   ]
  },
  {
   "cell_type": "code",
   "execution_count": null,
   "metadata": {},
   "outputs": [],
   "source": [
    "lambda a,b,c : res if res>1 else 0\n",
    "\n",
    "equal=lambda a,b,c :([a,b,c].count(max([a,b,c],key=[a,b,c].count))) if ([a,b,c].count(max([a,b,c],key=[a,b,c].count)))>1 else 0\n",
    "equal(2,2,3)"
   ]
  },
  {
   "cell_type": "code",
   "execution_count": null,
   "metadata": {},
   "outputs": [],
   "source": [
    "def myfnc(n):\n",
    "    return lambda x:x**n\n",
    "\n",
    "p2=myfnc(2)\n",
    "print(p2(2))"
   ]
  },
  {
   "cell_type": "code",
   "execution_count": null,
   "metadata": {},
   "outputs": [],
   "source": [
    "number=int(input(\"sayı tabanını giriniz\"))\n",
    "power=int(input(\"üs kuvvetini giriniz\"))\n",
    "(lambda n:(lambda x:x**n)(number))(power)\n",
    "\n",
    "number=input(\"string:\")\n",
    "power=int(input(\"tekrar sayısı:\"))\n",
    "(lambda n:(lambda x: x*n)(number))(power)"
   ]
  },
  {
   "cell_type": "code",
   "execution_count": null,
   "metadata": {},
   "outputs": [],
   "source": [
    "a=[1, 4, 9, 16, 25]\n",
    "b=[1, 4, 9, 16, 25]\n",
    "Av=list(map(lambda x,y : (x+y)/2,a,b)) \n",
    "print(Av)"
   ]
  },
  {
   "cell_type": "code",
   "execution_count": null,
   "metadata": {},
   "outputs": [],
   "source": [
    "words1=[\"you\"]\n",
    "words2=[\"i\"]\n",
    "words3=[\"love\"]\n",
    "\n",
    "mean=lambda x,y,z : x+\" \" +y +\" \"+z\n",
    "k=map(mean,words2,words3,words1)\n",
    "for i in k:\n",
    "    print(i)"
   ]
  },
  {
   "cell_type": "code",
   "execution_count": null,
   "metadata": {},
   "outputs": [],
   "source": [
    "words=[\"apple\",\"swim\",\"clok\",\"me\",\"kiwi\",\"banana\"]\n",
    "\n",
    "z=lambda x: False if len(x)<5 else True\n",
    "result=filter(z,words)\n",
    "print(*result)"
   ]
  },
  {
   "cell_type": "code",
   "execution_count": null,
   "metadata": {},
   "outputs": [],
   "source": [
    "def functioner(emoji):\n",
    "    return lambda message :print(message,emoji)\n",
    "    \n",
    "my_smile=functioner(\":)\")\n",
    "my_smile(\"hello\")"
   ]
  },
  {
   "cell_type": "code",
   "execution_count": null,
   "metadata": {},
   "outputs": [],
   "source": []
  },
  {
   "cell_type": "code",
   "execution_count": null,
   "metadata": {},
   "outputs": [],
   "source": []
  },
  {
   "cell_type": "markdown",
   "metadata": {},
   "source": [
    "STRING TEKRARLATMA/POWER OF NUMBER"
   ]
  },
  {
   "cell_type": "code",
   "execution_count": null,
   "metadata": {},
   "outputs": [],
   "source": [
    "#1\n",
    "def myfnc(n):\n",
    "    return lambda x:x**n\n",
    "\n",
    "p2=myfnc(2)\n",
    "print(p2(2))\n",
    "\n",
    "#2\n",
    "number=int(input(\"sayı tabanını giriniz\"))\n",
    "power=int(input(\"üs kuvvetini giriniz\"))\n",
    "(lambda n:(lambda x:x**n)(number))(power)\n",
    "\n",
    "number=input(\"string:\")\n",
    "power=int(input(\"tekrar sayısı:\"))\n",
    "(lambda n:(lambda x: x*n)(number))(power)"
   ]
  },
  {
   "cell_type": "code",
   "execution_count": null,
   "metadata": {},
   "outputs": [],
   "source": [
    "\n",
    "\n",
    "def my(x):\n",
    "    if x[0:3]==\"not\":\n",
    "        return print(x)\n",
    "    else:\n",
    "        return print(\"not\",x)\n",
    "my(\"yayla\")"
   ]
  },
  {
   "cell_type": "code",
   "execution_count": null,
   "metadata": {},
   "outputs": [],
   "source": [
    "def not_string(word):\n",
    "    if word[0:3]==\"not\":\n",
    "        return print(word)\n",
    "    else:\n",
    "        return print(\"not\",word)"
   ]
  },
  {
   "cell_type": "code",
   "execution_count": null,
   "metadata": {},
   "outputs": [],
   "source": [
    "not_string(\"x\")"
   ]
  },
  {
   "cell_type": "code",
   "execution_count": null,
   "metadata": {},
   "outputs": [],
   "source": [
    "(lambda x: print(\"\\033[1m\"+ \"{} is a leap year\".format(x) + \"\\033[0m\") if (x%400==0) or (x%4==0 and x%100!=0)\\\n",
    "          else print(\"\\033[1m\"+ \"{} is not a leap year\".format(x) + \"\\033[0m\"))(1800)\n"
   ]
  },
  {
   "cell_type": "code",
   "execution_count": null,
   "metadata": {},
   "outputs": [],
   "source": [
    "def func_generator(function):\n",
    "    return lambda x : function(x)\n"
   ]
  },
  {
   "cell_type": "markdown",
   "metadata": {},
   "source": [
    "DICT DIKKAT"
   ]
  },
  {
   "cell_type": "code",
   "execution_count": null,
   "metadata": {},
   "outputs": [],
   "source": [
    "#dict(1= \"ali\" )\n",
    "c={1:\"ali\"}\n",
    "print(c)\n",
    "\n",
    "a=[\"ali\",\"veli\",\"ahmet\",\"yasin\"]\n",
    "a.pop(0)\n",
    "print(a)\n",
    "#a.append(a.pop(1))\n",
    "#print(a)\n",
    "\n",
    "a=(\"ali\",\"veli\",\"ahmet\",\"yasin\")\n",
    "a.index(\"veli\")\n",
    "\n",
    "a=(\"ali\",\"veli\",\"ahmet\",\"yasin\",\"ali\")\n",
    "a.count(\"ali\")\n",
    "\n",
    "\n",
    "a={\"ali\":1,\"veli\":2,\"can\":3}\n",
    "print(1 in a)\n",
    "del a[\"ali\"]\n",
    "print(a)\n",
    "a={\"ali\":1,\"veli\":2,\"can\":3}\n",
    "print(a)\n",
    "a.update({\"ibo\":15})\n",
    "print(a)\n",
    "\n",
    "a={\"ali\":1,\"veli\":2,\"can\":3}\n",
    "print(1 in a)\n",
    "del a[\"ali\"]\n",
    "print(a)\n",
    "a={\"ali\":1,\"veli\":2,\"can\":3}\n",
    "print(a)\n",
    "a.update({\"ibo\":15})\n",
    "print(a)"
   ]
  },
  {
   "cell_type": "markdown",
   "metadata": {},
   "source": [
    "LİST COMPREHENSION"
   ]
  },
  {
   "cell_type": "code",
   "execution_count": null,
   "metadata": {},
   "outputs": [],
   "source": [
    "say=[2,5,7,8]\n",
    "[i for i in say if i%2==0]"
   ]
  },
  {
   "cell_type": "markdown",
   "metadata": {},
   "source": [
    "NEC MENTOR"
   ]
  },
  {
   "cell_type": "code",
   "execution_count": null,
   "metadata": {},
   "outputs": [],
   "source": [
    "#nec mentor --permutasyon\n",
    "def my(x,y):\n",
    "    a=1\n",
    "    if x>y and (x>0 and y>0):\n",
    "        for i in range(y+1,x+1):\n",
    "            a*=i\n",
    "        print(\"P({},{})= {}\".format(x,y,a))\n",
    "    else:\n",
    "        print (\"adam gibi sayı gir at kafası\")\n",
    "my(5,3)"
   ]
  },
  {
   "cell_type": "code",
   "execution_count": null,
   "metadata": {},
   "outputs": [],
   "source": [
    "#nec mentor --faktöriyel\n",
    "a=int(input(\"sayı giriniz:\"))\n",
    "c=1\n",
    "if a>=0:\n",
    "    for i in range(1,a+1):\n",
    "        c*=i\n",
    "    print(\"{} faktoriyel =\".format(a),c)\n",
    "else:\n",
    "    print(\"adam gibi sayı gir hırbo.Herhalde bunu demek istedin={}\".format(\"ben malım\"))"
   ]
  },
  {
   "cell_type": "code",
   "execution_count": null,
   "metadata": {},
   "outputs": [],
   "source": [
    "#1#nec mentor SORT ohne .sort()\n",
    "a=[999,333,2,8982,12,45,77,99,11]\n",
    "c=[]\n",
    "for i in range(len(a)):\n",
    "    b=min(a)\n",
    "    a.remove(b)\n",
    "    c.append(b)\n",
    "print(c)\n",
    "\n",
    "#2\n",
    "def list_min(n):\n",
    "    if type(n)==list:\n",
    "        b=n[0]\n",
    "        for j in n:\n",
    "            if j<b:\n",
    "                b=j\n",
    "            else:\n",
    "                continue\n",
    "        return b\n",
    "    else:\n",
    "        print(\"liste gir\")\n",
    "x=[999,333,2,8982,12,45,77,99,11]\n",
    "c=[]\n",
    "\n",
    "def main(a):\n",
    "    c=[]\n",
    "    for i in range(len(a)):\n",
    "        b=list_min(a)\n",
    "        a.remove(b)\n",
    "        c.append(b)\n",
    "    print(c)\n",
    "    \n",
    "x=[-1,333,2,2,8982,12,45,77,99,11]\n",
    "main(x)\n",
    "    \n",
    "#3\n",
    "mylist = [999,333, 2, 8982, 12, 45, 77, 99, 11]\n",
    "\n",
    "for i in range(len(mylist)):\n",
    "    for j in range(i+1,len(mylist)):\n",
    "        if mylist[i] > mylist[j]:\n",
    "            temp = mylist[i]\n",
    "            mylist[i] = mylist[j]\n",
    "            mylist[j] = temp\n",
    "        print(mylist) \n",
    "print(mylist)\n",
    "\n",
    "#4\n",
    "x=[5,999,2,8982,-1,45,77,99,11]\n",
    "a=[]\n",
    "for i in range(len(x)):\n",
    "    b=x[0]\n",
    "    for j in x:\n",
    "        if j<b:\n",
    "            b=j\n",
    "    x.remove(b)\n",
    "    a.append(b)\n",
    "print(c)"
   ]
  },
  {
   "cell_type": "code",
   "execution_count": null,
   "metadata": {},
   "outputs": [],
   "source": [
    "res=numbers.count(max(numbers,key=numbers.count))\n",
    "numbers=[a,b,c]"
   ]
  },
  {
   "cell_type": "code",
   "execution_count": 1,
   "metadata": {},
   "outputs": [
    {
     "name": "stdout",
     "output_type": "stream",
     "text": [
      "['R', 'R', 'R', 'G', 'G', 'B']\n"
     ]
    }
   ],
   "source": [
    "a=[\"G\",\"B\",\"R\",\"R\" ,\"R\",\"G\"]\n",
    "a.sort(reverse=True)\n",
    "print(a)"
   ]
  },
  {
   "cell_type": "markdown",
   "metadata": {},
   "source": [
    "PYTHON ADDICTS"
   ]
  },
  {
   "cell_type": "code",
   "execution_count": null,
   "metadata": {},
   "outputs": [],
   "source": [
    "print([\"R\"*a[\"R\"]])"
   ]
  },
  {
   "cell_type": "code",
   "execution_count": 2,
   "metadata": {},
   "outputs": [],
   "source": [
    "def my (a,b,c):\n",
    "    [a,b,c]\n"
   ]
  },
  {
   "cell_type": "code",
   "execution_count": 3,
   "metadata": {},
   "outputs": [
    {
     "name": "stdout",
     "output_type": "stream",
     "text": [
      "['R', 'R', 'R', 'G', 'G', 'B', 'B']\n"
     ]
    }
   ],
   "source": [
    "a = [\"G\",\"B\",\"R\",\"R\",\"R\",\"B\",\"G\"]\n",
    "ar_R = [i for i in a if i == \"R\"]\n",
    "ar_G = [i for i in a if i == \"G\"]\n",
    "ar_B = [i for i in a if i == \"B\"]\n",
    "print(ar_R + ar_G +ar_B)"
   ]
  },
  {
   "cell_type": "code",
   "execution_count": 12,
   "metadata": {},
   "outputs": [
    {
     "name": "stdout",
     "output_type": "stream",
     "text": [
      "['R', 'R', 'R', 'G', 'G', 'B', 'B']\n",
      "['RRR']\n",
      "['R', 'R', 'R']\n",
      "3\n",
      "{'G': 2, 'B': 2, 'R': 3}\n"
     ]
    }
   ],
   "source": [
    "a = [\"G\",\"B\",\"R\",\"R\",\"R\",\"B\",\"G\"]\n",
    "a = {i:a.count(i) for i in a}\n",
    "print([*\"R\"*a[\"R\"], *\"G\"*a[\"G\"],*\"B\"*a[\"B\"]])\n",
    "print([\"R\"*a[\"R\"]])\n",
    "print([*\"R\"*a[\"R\"]])\n",
    "print(a[\"R\"])\n",
    "print(a)"
   ]
  },
  {
   "cell_type": "code",
   "execution_count": 44,
   "metadata": {},
   "outputs": [
    {
     "name": "stdout",
     "output_type": "stream",
     "text": [
      "- - - - - - - - - - - - - - \n",
      "0  0  0 | 0  6  4 | 0  0  0 \n",
      "7  0  0 | 0  0  0 | 3  9  0 \n",
      "8  0  0 | 0  0  0 | 0  0  0 \n",
      "- - - - - - - - - - - - - - \n",
      "0  0  0 | 5  0  2 | 0  6  0 \n",
      "0  8  0 | 4  0  0 | 0  0  0 \n",
      "3  5  0 | 6  0  0 | 0  7  0 \n",
      "- - - - - - - - - - - - - - \n",
      "0  0  2 | 0  0  0 | 1  0  3 \n",
      "0  0  1 | 0  5  9 | 0  0  0 \n",
      "0  0  0 | 0  0  0 | 7  0  0 \n",
      "- - - - - - - - - - - - - - \n"
     ]
    }
   ],
   "source": [
    "a = [\n",
    "    [0, 0, 0, 0, 6, 4, 0, 0, 0],\n",
    "    [7, 0, 0, 0, 0, 0, 3, 9, 0],\n",
    "    [8, 0, 0, 0, 0, 0, 0, 0, 0],\n",
    "    [0, 0, 0, 5, 0, 2, 0, 6, 0],\n",
    "    [0, 8, 0, 4, 0, 0, 0, 0, 0],\n",
    "    [3, 5, 0, 6, 0, 0, 0, 7, 0],\n",
    "    [0, 0, 2, 0, 0, 0, 1, 0, 3],\n",
    "    [0, 0, 1, 0, 5, 9, 0, 0, 0],\n",
    "    [0, 0, 0, 0, 0, 0, 7, 0, 0]\n",
    "]\n",
    "for i in range (len(a[i])): \n",
    "    for j in range(len(a[i])):\n",
    "        if i in (0,3,6) and j==0:\n",
    "            print(\"- \"*14)\n",
    "        print(a[i][j],z,end=\"{}\".format(k))\n",
    "        z=\"\"\n",
    "        k=\" \"\n",
    "        if j in (1,4):\n",
    "            z=\"|\"\n",
    "        if j==7:\n",
    "            k=\"\\n\"\n",
    "        if i==8 and j==8:\n",
    "            print(\"- \"*14)   "
   ]
  },
  {
   "cell_type": "code",
   "execution_count": 13,
   "metadata": {},
   "outputs": [
    {
     "name": "stdout",
     "output_type": "stream",
     "text": [
      "0  0  0 | 0  6  4 | 0  0  0  "
     ]
    }
   ],
   "source": [
    "a =[0, 0, 0, 0, 6, 4, 0, 0, 0]\n",
    "k=\" \"\n",
    "for j in range(len(a)):\n",
    "    print(a[j],z,end=\"{}\".format(k))\n",
    "    z=\"\"\n",
    "    if j in (1,4):\n",
    "        z=\"|\" "
   ]
  },
  {
   "cell_type": "code",
   "execution_count": null,
   "metadata": {},
   "outputs": [],
   "source": []
  },
  {
   "cell_type": "code",
   "execution_count": null,
   "metadata": {},
   "outputs": [],
   "source": [
    "for i in [1, 2, 3]:\n",
    "    for j in [1, 2, 3]:\n",
    "        for k in [1, 2, 3]:\n",
    "            if i!=j!=k!=i:\n",
    "                print( [i,j,k])"
   ]
  },
  {
   "cell_type": "code",
   "execution_count": 1,
   "metadata": {},
   "outputs": [
    {
     "name": "stdout",
     "output_type": "stream",
     "text": [
      "[1, 2, 3]\n",
      "[1, 3, 2]\n",
      "[2, 1, 3]\n",
      "[2, 3, 1]\n",
      "[3, 2, 1]\n",
      "[3, 1, 2]\n"
     ]
    }
   ],
   "source": [
    "x=[1,2,3]\n",
    "n=len(x)\n",
    "def permutate(a, l, r):\n",
    "    if l==r:\n",
    "        print(x)\n",
    "    else:\n",
    "        for i in range(l,r+1):\n",
    "            a[l], a[i] = a[i], a[l]\n",
    "            permutate(a, l+1, r)\n",
    "            a[l], a[i] =a[i], a[l]\n",
    "permutate(x, 0, n-1)"
   ]
  },
  {
   "cell_type": "code",
   "execution_count": 2,
   "metadata": {},
   "outputs": [
    {
     "name": "stdout",
     "output_type": "stream",
     "text": [
      "[[1, 2, 3], [1, 3, 2], [2, 1, 3], [2, 3, 1], [3, 1, 2], [3, 2, 1]]\n"
     ]
    }
   ],
   "source": [
    "my_list = [1,2,3]\n",
    "output=[[x, y, z] for x in my_list for y in my_list for z in my_list if not(x==y or x==z or y==z)]\n",
    "print(output)"
   ]
  },
  {
   "cell_type": "code",
   "execution_count": 3,
   "metadata": {},
   "outputs": [
    {
     "name": "stdout",
     "output_type": "stream",
     "text": [
      "[[1, 2, 3, 4], [1, 2, 4, 3], [1, 3, 2, 4], [1, 3, 4, 2], [1, 4, 2, 3], [1, 4, 3, 2], [2, 1, 3, 4], [2, 1, 4, 3], [2, 3, 1, 4], [2, 3, 4, 1], [2, 4, 1, 3], [2, 4, 3, 1], [3, 1, 2, 4], [3, 1, 4, 2], [3, 2, 1, 4], [3, 2, 4, 1], [3, 4, 1, 2], [3, 4, 2, 1], [4, 1, 2, 3], [4, 1, 3, 2], [4, 2, 1, 3], [4, 2, 3, 1], [4, 3, 1, 2], [4, 3, 2, 1]]\n"
     ]
    }
   ],
   "source": [
    "lst = [1,2,3,4]\n",
    "p=[[x for x in range(0)]]\n",
    "for i in range(len(lst)):\n",
    "    p = [[a] + b for a in lst for b in p if (a not in b)]\n",
    "print(p)"
   ]
  },
  {
   "cell_type": "code",
   "execution_count": 4,
   "metadata": {},
   "outputs": [
    {
     "name": "stdout",
     "output_type": "stream",
     "text": [
      "[['A', 6, 5, 3], ['D', 6, 5, 0], ['C', 4, 4, 0], ['B', 1, 4, -3]]\n"
     ]
    }
   ],
   "source": [
    "lst=[ [ \"A\", 6, 5, 3 ], [ \"C\", 4, 4, 0 ], [ \"B\", 1, 4, -3 ],[ \"D\", 6, 5, 0 ]]\n",
    "print(sorted(lst, key=lambda lst:lst[1:], reverse=True))\n",
    "output= [['A', 6, 5, 3], ['D', 6, 5, 0], ['C', 4, 4, 0], ['B', 1, 4, -3]]\n",
    "##lst listesinin içindeki her bir listenin 1'inci elemanından itaberen olan tüm sayıları dikkate alarak sırama yapmıştır."
   ]
  },
  {
   "cell_type": "code",
   "execution_count": 8,
   "metadata": {},
   "outputs": [
    {
     "name": "stdout",
     "output_type": "stream",
     "text": [
      "[1, 2, 3]\n",
      "[1, 3, 2]\n",
      "[2, 1, 3]\n",
      "[2, 3, 1]\n",
      "[3, 1, 2]\n",
      "[3, 2, 1]\n"
     ]
    }
   ],
   "source": [
    "list=[1,2,3]\n",
    "for i in list:\n",
    "    for j in list:\n",
    "        for k in list:\n",
    "            if i!=j!=k!=i:\n",
    "                print([i,j,k])"
   ]
  },
  {
   "cell_type": "code",
   "execution_count": 4,
   "metadata": {},
   "outputs": [],
   "source": [
    "from itertools import permutations\n"
   ]
  },
  {
   "cell_type": "code",
   "execution_count": 5,
   "metadata": {},
   "outputs": [
    {
     "name": "stdout",
     "output_type": "stream",
     "text": [
      "[(1, 2, 3), (1, 3, 2), (2, 1, 3), (2, 3, 1), (3, 1, 2), (3, 2, 1)]\n"
     ]
    }
   ],
   "source": [
    "p= permutations([1, 2, 3])\n",
    "print(list(p))"
   ]
  },
  {
   "cell_type": "code",
   "execution_count": 14,
   "metadata": {},
   "outputs": [],
   "source": [
    "a=\"iboopp\""
   ]
  },
  {
   "cell_type": "code",
   "execution_count": 51,
   "metadata": {},
   "outputs": [
    {
     "name": "stdout",
     "output_type": "stream",
     "text": [
      "i 1\n",
      "i 2\n",
      "b 1\n",
      "r 1\n",
      "a 1\n",
      "h 1\n",
      "i 1\n",
      "i 2\n",
      "m 1\n",
      "m 2\n",
      "m 3\n",
      "m 1\n",
      "m 2\n",
      "m 3\n",
      "m 1\n",
      "m 2\n",
      "m 3\n"
     ]
    }
   ],
   "source": [
    "for i in a:\n",
    "    count=0\n",
    "    for j in a:\n",
    "        if i==j:\n",
    "            count+=1\n",
    "            print(i,count)"
   ]
  },
  {
   "cell_type": "code",
   "execution_count": 52,
   "metadata": {},
   "outputs": [],
   "source": [
    "a=\"ibrahimmm\""
   ]
  },
  {
   "cell_type": "code",
   "execution_count": null,
   "metadata": {},
   "outputs": [],
   "source": []
  },
  {
   "cell_type": "code",
   "execution_count": null,
   "metadata": {},
   "outputs": [],
   "source": []
  },
  {
   "cell_type": "code",
   "execution_count": null,
   "metadata": {},
   "outputs": [],
   "source": []
  }
 ],
 "metadata": {
  "kernelspec": {
   "display_name": "Python 3.8.3 64-bit",
   "language": "python",
   "name": "python38364bit53e4352d1a48409baa1d21bdfbc2363f"
  },
  "language_info": {
   "codemirror_mode": {
    "name": "ipython",
    "version": 3
   },
   "file_extension": ".py",
   "mimetype": "text/x-python",
   "name": "python",
   "nbconvert_exporter": "python",
   "pygments_lexer": "ipython3",
   "version": "3.8.3rc1"
  }
 },
 "nbformat": 4,
 "nbformat_minor": 4
}
